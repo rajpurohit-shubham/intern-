{
  "nbformat": 4,
  "nbformat_minor": 0,
  "metadata": {
    "colab": {
      "name": "TASK_ 3(exploratory data analysis).ipynb",
      "provenance": [],
      "collapsed_sections": [],
      "toc_visible": true,
      "authorship_tag": "ABX9TyOrfqq6uEUdv9/SJMJrjZM3",
      "include_colab_link": true
    },
    "kernelspec": {
      "name": "python3",
      "display_name": "Python 3"
    },
    "language_info": {
      "name": "python"
    }
  },
  "cells": [
    {
      "cell_type": "markdown",
      "metadata": {
        "id": "view-in-github",
        "colab_type": "text"
      },
      "source": [
        "<a href=\"https://colab.research.google.com/github/rajpurohit-shubham/intern-/blob/main/TASK__3(exploratory_data_analysis).ipynb\" target=\"_parent\"><img src=\"https://colab.research.google.com/assets/colab-badge.svg\" alt=\"Open In Colab\"/></a>"
      ]
    },
    {
      "cell_type": "markdown",
      "metadata": {
        "id": "GzskFYIPLkSS"
      },
      "source": [
        "**SHUBHAM RAJPUROHIT**\n",
        "\n",
        "To Explore Buisness Analytics\n",
        "Objective   \n",
        "\n",
        "● Perform ‘Exploratory Data Analysis’ on dataset ‘SampleSuperstore’\n",
        "\n",
        "● As a business manager, try to find out the weak areas where you can work to make more profit.\n",
        "\n",
        "● What all business problems you can derive by exploring the data?"
      ]
    },
    {
      "cell_type": "code",
      "metadata": {
        "id": "dRr0Nxp8Ftnu"
      },
      "source": [
        "from google.colab import drive \n",
        "drive.mount('/content/drive') "
      ],
      "execution_count": null,
      "outputs": []
    },
    {
      "cell_type": "code",
      "metadata": {
        "id": "2vrYAD9oGJTh"
      },
      "source": [
        "### Import all necessary Libraries\n",
        "import numpy as np\n",
        "import pandas as pd\n",
        "import seaborn as sns\n",
        "from plotnine import *\n",
        "import warnings\n",
        "warnings.filterwarnings('ignore')\n",
        "import matplotlib.pyplot as plt\n"
      ],
      "execution_count": null,
      "outputs": []
    },
    {
      "cell_type": "code",
      "metadata": {
        "id": "Yr-g3ifBGYx8"
      },
      "source": [
        "sample = pd.read_csv(\"/content/drive/MyDrive/samplesuperstore /SampleSuperstore.csv\")\n",
        "sample.head()"
      ],
      "execution_count": null,
      "outputs": []
    },
    {
      "cell_type": "code",
      "metadata": {
        "id": "DzJ0AGBNK9FT"
      },
      "source": [
        "sample.shape"
      ],
      "execution_count": null,
      "outputs": []
    },
    {
      "cell_type": "code",
      "metadata": {
        "id": "uzi8OcOsLQHd"
      },
      "source": [
        "sample.info()"
      ],
      "execution_count": null,
      "outputs": []
    },
    {
      "cell_type": "code",
      "metadata": {
        "id": "OXq3DZEQMjL4"
      },
      "source": [
        "sample.describe()"
      ],
      "execution_count": null,
      "outputs": []
    },
    {
      "cell_type": "code",
      "metadata": {
        "id": "JhT68EmfMq7O"
      },
      "source": [
        "#Checking Missing Values\n",
        "sample.isnull().sum()"
      ],
      "execution_count": null,
      "outputs": []
    },
    {
      "cell_type": "code",
      "metadata": {
        "id": "BhctaPutM_u3"
      },
      "source": [
        "# Chaecking the dupilication in data\n",
        "sample.duplicated().sum()"
      ],
      "execution_count": null,
      "outputs": []
    },
    {
      "cell_type": "code",
      "metadata": {
        "id": "vT3YMIHwNGsG"
      },
      "source": [
        "sample.drop_duplicates()"
      ],
      "execution_count": null,
      "outputs": []
    },
    {
      "cell_type": "code",
      "metadata": {
        "id": "AGv9IDKPNL-m"
      },
      "source": [
        "sample.nunique()"
      ],
      "execution_count": null,
      "outputs": []
    },
    {
      "cell_type": "code",
      "metadata": {
        "id": "uj7Oy3EhNUPc"
      },
      "source": [
        "#Deleting the Variable.\n",
        "col=['Postal Code']\n",
        "sample1=sample.drop(columns=col,axis=1)"
      ],
      "execution_count": null,
      "outputs": []
    },
    {
      "cell_type": "code",
      "metadata": {
        "id": "V4Tm-rncNcjg"
      },
      "source": [
        "#Correlation Between Variables.\n",
        "sample1.corr()"
      ],
      "execution_count": null,
      "outputs": []
    },
    {
      "cell_type": "code",
      "metadata": {
        "id": "A4izSFzTNhO7"
      },
      "source": [
        "# Covariance of columns\n",
        "sample1.cov()"
      ],
      "execution_count": null,
      "outputs": []
    },
    {
      "cell_type": "code",
      "metadata": {
        "id": "YGwTTrTzNqGE"
      },
      "source": [
        "sample1.head()"
      ],
      "execution_count": null,
      "outputs": []
    },
    {
      "cell_type": "markdown",
      "metadata": {
        "id": "I36BS-9QN25L"
      },
      "source": [
        "**Exploratory Data Analysis**\n",
        "\n",
        "Data Visualization "
      ]
    },
    {
      "cell_type": "code",
      "metadata": {
        "id": "LkaXFdLTNxA9"
      },
      "source": [
        "plt.figure(figsize=(16,8))\n",
        "plt.bar('Sub-Category','Category', data=sample1)\n",
        "plt.title('Category vs Sub Category')\n",
        "plt.xlabel('Sub-Catgory')\n",
        "plt.ylabel('Category')\n",
        "plt.xticks(rotation=45)\n",
        "plt.show()"
      ],
      "execution_count": null,
      "outputs": []
    },
    {
      "cell_type": "code",
      "metadata": {
        "id": "9dB2gx6nOgJ7"
      },
      "source": [
        "sample1.corr()"
      ],
      "execution_count": null,
      "outputs": []
    },
    {
      "cell_type": "code",
      "metadata": {
        "id": "UmwldDshOqO8"
      },
      "source": [
        "sample1.hist(bins=50 ,figsize=(20,15))\n",
        "plt.show();"
      ],
      "execution_count": null,
      "outputs": []
    },
    {
      "cell_type": "code",
      "metadata": {
        "id": "uOorJ7-ZOv1b"
      },
      "source": [
        "# Count the total repeatable states\n",
        "sample1['State'].value_counts()"
      ],
      "execution_count": null,
      "outputs": []
    },
    {
      "cell_type": "code",
      "metadata": {
        "id": "Pca7Ilr-O49P"
      },
      "source": [
        "plt.figure(figsize=(15,15))\n",
        "sns.countplot(x=sample1['State'])\n",
        "plt.xticks(rotation=90)\n",
        "plt.title(\"STATE\")\n",
        "plt.show()"
      ],
      "execution_count": null,
      "outputs": []
    },
    {
      "cell_type": "code",
      "metadata": {
        "id": "R-klHWmSPA3s"
      },
      "source": [
        "Profit_plot = (ggplot(sample, aes(x='Sub-Category', y='Profit', fill='Sub-Category')) + geom_col() + coord_flip()\n",
        "+ scale_fill_brewer(type='div', palette=\"Spectral\") + theme_classic() + ggtitle('Pie Chart'))\n",
        "\n",
        "display(Profit_plot)"
      ],
      "execution_count": null,
      "outputs": []
    },
    {
      "cell_type": "code",
      "metadata": {
        "id": "wJJK4tKSPKUT"
      },
      "source": [
        "sns.set(style=\"whitegrid\")\n",
        "plt.figure(2, figsize=(20,15))\n",
        "sns.barplot(x='Sub-Category',y='Profit', data=sample, palette='Spectral')\n",
        "plt.suptitle('Pie Consumption Patterns in the United States', fontsize=16)\n",
        "plt.show()"
      ],
      "execution_count": null,
      "outputs": []
    },
    {
      "cell_type": "code",
      "metadata": {
        "id": "r_WjidP7PXeP"
      },
      "source": [
        "ggplot(sample, aes(x='Ship Mode', fill = 'Category')) + geom_bar(stat = 'count')"
      ],
      "execution_count": null,
      "outputs": []
    },
    {
      "cell_type": "code",
      "metadata": {
        "id": "mbaUGtj8QEvv"
      },
      "source": [
        "figsize=(15,10)\n",
        "sns.pairplot(sample1,hue='Sub-Category')\n",
        "plt.show"
      ],
      "execution_count": null,
      "outputs": []
    },
    {
      "cell_type": "code",
      "metadata": {
        "id": "gvUnrPuNQM3k"
      },
      "source": [
        "flip_xlabels = theme(axis_text_x = element_text(angle=90, hjust=1),figure_size=(10,5),\n",
        "                     axis_ticks_length_major=10,axis_ticks_length_minor=5)\n",
        "(ggplot(sample, aes(x='Sub-Category', fill='Sales')) + geom_bar() + facet_wrap(['Segment']) \n",
        "+ flip_xlabels +theme(axis_text_x = element_text(size=12))+ggtitle(\"Sales From Every Segment Of United States of Whole Data\"))"
      ],
      "execution_count": null,
      "outputs": []
    },
    {
      "cell_type": "code",
      "metadata": {
        "id": "GgxmGES3QagE"
      },
      "source": [
        "flip_xlabels = theme(axis_text_x = element_text(angle=90, hjust=1),figure_size=(10,5),\n",
        "                     axis_ticks_length_major=10,axis_ticks_length_minor=5)\n",
        "(ggplot(sample, aes(x='Sub-Category', fill='Discount')) + geom_bar() + facet_wrap(['Segment']) \n",
        "+ flip_xlabels +theme(axis_text_x = element_text(size=12))+ggtitle(\"Discount on Categories From Every Segment Of United States of Whole Data\"))"
      ],
      "execution_count": null,
      "outputs": []
    },
    {
      "cell_type": "code",
      "metadata": {
        "id": "4nWV8vxnQgG-"
      },
      "source": [
        "flip_xlabels = theme(axis_text_x = element_text(angle=90, hjust=10),figure_size=(10,10),\n",
        "                     axis_ticks_length_major=50,axis_ticks_length_minor=50)\n",
        "(ggplot(sample1, aes(x='Category', fill='Sales')) + geom_bar() + theme(axis_text_x = element_text(size=10)) \n",
        "+ facet_wrap(['Region']) + flip_xlabels+ ggtitle(\"Sales From Every Region Of United States of Whole Data\"))"
      ],
      "execution_count": null,
      "outputs": []
    },
    {
      "cell_type": "code",
      "metadata": {
        "id": "23FP3FOQQpBL"
      },
      "source": [
        "plt.figure(figsize=(10,4))\n",
        "sns.lineplot('Discount','Profit', data=sample1 , color='y',label='Discount')\n",
        "plt.legend()\n",
        "plt.show()"
      ],
      "execution_count": null,
      "outputs": []
    },
    {
      "cell_type": "code",
      "metadata": {
        "id": "yafdnGjWQySY"
      },
      "source": [
        "import plotly.express as px\n",
        "import plotly.graph_objects as go\n",
        "from plotly.subplots import make_subplots"
      ],
      "execution_count": null,
      "outputs": []
    },
    {
      "cell_type": "code",
      "metadata": {
        "id": "rryzi0zwQ6Mw"
      },
      "source": [
        "state_code = {'Alabama': 'AL','Alaska': 'AK','Arizona': 'AZ','Arkansas': 'AR','California': 'CA','Colorado': 'CO','Connecticut': 'CT','Delaware': 'DE','Florida': 'FL','Georgia': 'GA','Hawaii': 'HI','Idaho': 'ID','Illinois': 'IL','Indiana': 'IN','Iowa': 'IA','Kansas': 'KS','Kentucky': 'KY','Louisiana': 'LA','Maine': 'ME','Maryland': 'MD','Massachusetts': 'MA','Michigan': 'MI','Minnesota': 'MN','Mississippi': 'MS','Missouri': 'MO','Montana': 'MT','Nebraska': 'NE','Nevada': 'NV','New Hampshire': 'NH','New Jersey': 'NJ','New Mexico': 'NM','New York': 'NY','North Carolina': 'NC','North Dakota': 'ND','Ohio': 'OH','Oklahoma': 'OK','Oregon': 'OR','Pennsylvania': 'PA','Rhode Island': 'RI','South Carolina': 'SC','South Dakota': 'SD','Tennessee': 'TN','Texas': 'TX','Utah': 'UT','Vermont': 'VT','Virginia': 'VA','District of Columbia': 'WA','Washington': 'WA','West Virginia': 'WV','Wisconsin': 'WI','Wyoming': 'WY'}\n",
        "sample1['state_code'] = sample1.State.apply(lambda x: state_code[x])"
      ],
      "execution_count": null,
      "outputs": []
    },
    {
      "cell_type": "code",
      "metadata": {
        "id": "dppskFvqRG45"
      },
      "source": [
        "state_data = sample1[['Sales', 'Profit', 'state_code']].groupby(['state_code']).sum()\n",
        "\n",
        "\n",
        "fig = go.Figure(data=go.Choropleth(\n",
        "    locations=state_data.index, \n",
        "    z = state_data.Sales, \n",
        "    locationmode = 'USA-states', \n",
        "    colorscale = 'Reds',\n",
        "    colorbar_title = 'Sales in USD',\n",
        "))\n",
        "\n",
        "fig.update_layout(\n",
        "    title_text = 'Total State-Wise Sales',\n",
        "    geo_scope='usa',\n",
        "    height=800,\n",
        ")\n"
      ],
      "execution_count": null,
      "outputs": []
    },
    {
      "cell_type": "markdown",
      "metadata": {
        "id": "B_bRyPxzRT1X"
      },
      "source": [
        "Now, let us analyze the sales of a few random states from each profit bracket (high profit, medium profit, low profit, low loss and high loss) and try to observe some crucial trends which might help us in increasing the sales.\n",
        "\n",
        "We have a few questions to answer here.\n",
        "\n",
        "1 What products do the most profit making states buy?\n",
        "\n",
        "2 What products do the loss bearing states buy?\n",
        "\n",
        "3 What product segment needs to be improved in order to drive the profits higher?"
      ]
    },
    {
      "cell_type": "code",
      "metadata": {
        "id": "Ypy1z8DfRWsc"
      },
      "source": [
        "def state_data_viewer(states):\n",
        "    \"\"\"Plots the turnover generated by different product categories and sub-categories for the list of given states.\n",
        "    Args:\n",
        "        states- List of all the states you want the plots for\n",
        "    Returns:\n",
        "        None\n",
        "    \"\"\"\n",
        "    product_data = sample1.groupby(['State'])\n",
        "    for state in states:\n",
        "        data = product_data.get_group(state).groupby(['Category'])\n",
        "        fig, ax = plt.subplots(1, 3, figsize = (28,5))\n",
        "        fig.suptitle(state, fontsize=14)        \n",
        "        ax_index = 0\n",
        "        for cat in ['Furniture', 'Office Supplies', 'Technology']:\n",
        "            cat_data = data.get_group(cat).groupby(['Sub-Category']).sum()\n",
        "            sns.barplot(x = cat_data.Profit, y = cat_data.index, ax = ax[ax_index])\n",
        "            ax[ax_index].set_ylabel(cat)\n",
        "            ax_index +=1\n",
        "        fig.show()"
      ],
      "execution_count": null,
      "outputs": []
    },
    {
      "cell_type": "code",
      "metadata": {
        "id": "ETfjgLUVRdqz"
      },
      "source": [
        "states = ['California', 'Washington', 'Mississippi', 'Arizona', 'Texas']\n",
        "state_data_viewer(states)"
      ],
      "execution_count": null,
      "outputs": []
    },
    {
      "cell_type": "markdown",
      "metadata": {
        "id": "9qtWrajWRorh"
      },
      "source": [
        "**Using Cluster Analysis(K-Mean Clustering)**"
      ]
    },
    {
      "cell_type": "code",
      "metadata": {
        "id": "LInIKcmeRj9O"
      },
      "source": [
        "x = sample.iloc[:, [9, 10, 11, 12]].values\n",
        "\n",
        "from sklearn.cluster import KMeans\n",
        "wcss = []\n",
        "\n",
        "for i in range(1, 11):\n",
        "    kmeans = KMeans(n_clusters = i, init = 'k-means++', \n",
        "                    max_iter = 300, n_init = 10, random_state = 0).fit(x)\n",
        "    wcss.append(kmeans.inertia_)"
      ],
      "execution_count": null,
      "outputs": []
    },
    {
      "cell_type": "code",
      "metadata": {
        "id": "HXf4xTtvRy2K"
      },
      "source": [
        "sns.set_style(\"whitegrid\") \n",
        "sns.FacetGrid(sample, hue =\"Sub-Category\",height = 6).map(plt.scatter,'Sales','Quantity')\n",
        "plt.scatter(kmeans.cluster_centers_[:, 0], kmeans.cluster_centers_[:,1], \n",
        "            s = 100, c = 'yellow', label = 'Centroids')\n",
        "\n",
        "plt.legend()\n",
        "plt.show()"
      ],
      "execution_count": null,
      "outputs": []
    },
    {
      "cell_type": "code",
      "metadata": {
        "id": "uPXr8UswR6yf"
      },
      "source": [
        "sns.set_style(\"whitegrid\") \n",
        "sns.FacetGrid(sample, hue =\"Sub-Category\",height = 6).map(plt.scatter,'Sales','Profit')\n",
        "plt.scatter(kmeans.cluster_centers_[:, 0], kmeans.cluster_centers_[:,1], \n",
        "            s = 100, c = 'yellow', label = 'Centroids')\n",
        "\n",
        "plt.legend()\n",
        "plt.show()"
      ],
      "execution_count": null,
      "outputs": []
    },
    {
      "cell_type": "code",
      "metadata": {
        "id": "Wd4FFWulSBVT"
      },
      "source": [
        "fig, ax = plt.subplots(figsize = (10 , 6))\n",
        "ax.scatter(sample1[\"Sales\"] , sample1[\"Profit\"])\n",
        "ax.set_xlabel('Sales')\n",
        "ax.set_ylabel('Profit')\n",
        "ax.set_title('Sales vs Profit')\n",
        "plt.show()"
      ],
      "execution_count": null,
      "outputs": []
    },
    {
      "cell_type": "markdown",
      "metadata": {
        "id": "A4sys923SOjR"
      },
      "source": [
        "\n",
        "**From the Above data Visualization and Clustering we can see that in Which states and in which Category Sales and profits are High or less,We can improve in that States By Providing Discounts in prefered Range so that Company and cosumer both will be in profit.So For Deciding that Range we have to do some Technical Analysis.One can Do it through Factor Analysis,or also can Do it throgh neural networks.**\n",
        "\n",
        "One thing to be noted is that while the superstore is incurring losses due to giving discounts on its products, they can't stop giving discounts of their products. Most of the heavy discounts are during festivals, end-of-season and clearance sales which are necessary so that the store can make space in their warehouses for fresh stock. Also, by incurring small losses, the company gains in the future by attracting more long term customers. Therefore, the small losses from discounts are an essential part of company's business"
      ]
    }
  ]
}