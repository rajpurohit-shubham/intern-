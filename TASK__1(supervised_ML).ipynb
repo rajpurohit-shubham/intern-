{
  "nbformat": 4,
  "nbformat_minor": 0,
  "metadata": {
    "colab": {
      "name": "TASK _1(supervised ML).ipynb",
      "provenance": [],
      "collapsed_sections": [],
      "toc_visible": true,
      "mount_file_id": "199DMsKExA4LyAN722T-0wgKNQ9Q7Kphh",
      "authorship_tag": "ABX9TyOaJJIeCO6dniFctjvLncrE",
      "include_colab_link": true
    },
    "kernelspec": {
      "name": "python3",
      "display_name": "Python 3"
    },
    "language_info": {
      "name": "python"
    }
  },
  "cells": [
    {
      "cell_type": "markdown",
      "metadata": {
        "id": "view-in-github",
        "colab_type": "text"
      },
      "source": [
        "<a href=\"https://colab.research.google.com/github/rajpurohit-shubham/intern-/blob/main/TASK__1(supervised_ML).ipynb\" target=\"_parent\"><img src=\"https://colab.research.google.com/assets/colab-badge.svg\" alt=\"Open In Colab\"/></a>"
      ]
    },
    {
      "cell_type": "markdown",
      "metadata": {
        "id": "vEzZ2hvJz_Jj"
      },
      "source": [
        "**SHUBHAM RAJPUROHIT**"
      ]
    },
    {
      "cell_type": "markdown",
      "metadata": {
        "id": "rXB82nBLzxvZ"
      },
      "source": [
        "**Task 1 : Prediction using Supervised Machine Learning**\n",
        "\n",
        "GRIP @ The Sparks Foundation\n",
        "In this regression task I tried to predict the percentage of marks that a student is expected to score based upon the number of hours they studied.\n",
        "\n",
        "This is a simple linear regression task as it involves just two variables. "
      ]
    },
    {
      "cell_type": "markdown",
      "metadata": {
        "id": "aPoD4HIA0HGc"
      },
      "source": [
        "**Technical Stack : Sikit Learn, Numpy Array, Pandas, Matplotlib**\n"
      ]
    },
    {
      "cell_type": "code",
      "metadata": {
        "id": "7cDZUeySzHeA"
      },
      "source": [
        "# Importing the required libraries\n",
        "from sklearn.model_selection import train_test_split \n",
        "from sklearn.linear_model import LinearRegression\n",
        "import matplotlib.pyplot as plt\n",
        "import pandas as pd\n",
        "import numpy as np"
      ],
      "execution_count": null,
      "outputs": []
    },
    {
      "cell_type": "markdown",
      "metadata": {
        "id": "V8PZvMUfzwH0"
      },
      "source": [
        "**Step 1 - Reading the data from source**"
      ]
    },
    {
      "cell_type": "code",
      "metadata": {
        "id": "65acrBH62c8m"
      },
      "source": [
        "\n",
        "# Reading data from remote link\n",
        "url = r\"https://raw.githubusercontent.com/AdiPersonalWorks/Random/master/student_scores%20-%20student_scores.csv\"\n",
        "s_data = pd.read_csv(url)\n",
        "print(\"Data import successful\")\n",
        "\n",
        "s_data.head(10)\n",
        "\n"
      ],
      "execution_count": null,
      "outputs": []
    },
    {
      "cell_type": "markdown",
      "metadata": {
        "id": "1n2psHAm2yIN"
      },
      "source": [
        "**Step 2 - Input data Visualization**"
      ]
    },
    {
      "cell_type": "code",
      "metadata": {
        "id": "gYBSZ-p_20Tg"
      },
      "source": [
        "# Plotting the distribution of scores\n",
        "s_data.plot(x='Hours', y='Scores', style='o')  \n",
        "plt.title('Hours vs Percentage')  \n",
        "plt.xlabel('Hours Studied')  \n",
        "plt.ylabel('Percentage Score')  \n",
        "plt.show()"
      ],
      "execution_count": null,
      "outputs": []
    },
    {
      "cell_type": "markdown",
      "metadata": {
        "id": "b6r0JhMs3CXe"
      },
      "source": [
        "**Step 3 - Data Preprocessing**\n",
        "\n",
        "This step involved division of data into \"attributes\" (inputs) and \"labels\" (outputs)."
      ]
    },
    {
      "cell_type": "code",
      "metadata": {
        "id": "efitaQVC3ObX"
      },
      "source": [
        "\n",
        "X = s_data.iloc[:, :-1].values  \n",
        "y = s_data.iloc[:, 1].values"
      ],
      "execution_count": null,
      "outputs": []
    },
    {
      "cell_type": "markdown",
      "metadata": {
        "id": "ObtofiDq3VEw"
      },
      "source": [
        "\n",
        "**Step 4 - Model Training**\n",
        "\n",
        "Splitting the data into training and testing sets, and training the algorithm."
      ]
    },
    {
      "cell_type": "code",
      "metadata": {
        "id": "qLgA7vRS3a3m"
      },
      "source": [
        "X_train, X_test, y_train, y_test = train_test_split(X, y, test_size=0.2, random_state=0) \n",
        "regressor = LinearRegression()  \n",
        "regressor.fit(X_train.reshape(-1,1), y_train) \n",
        "\n",
        "print(\"Training complete.\")"
      ],
      "execution_count": null,
      "outputs": []
    },
    {
      "cell_type": "markdown",
      "metadata": {
        "id": "fpYwUHRc3iUi"
      },
      "source": [
        "\n",
        "**Step 5 - Plotting the Line of regression**\n",
        "\n",
        "Now since our model is trained now, its the time to visualize the best-fit line of regression"
      ]
    },
    {
      "cell_type": "code",
      "metadata": {
        "id": "nLLCrv7g3oMu"
      },
      "source": [
        "# Plotting the regression line\n",
        "line = regressor.coef_*X+regressor.intercept_\n",
        "\n",
        "# Plotting for the test data\n",
        "plt.scatter(X, y)\n",
        "plt.plot(X, line,color='red');\n",
        "plt.show()"
      ],
      "execution_count": null,
      "outputs": []
    },
    {
      "cell_type": "markdown",
      "metadata": {
        "id": "0dimMDcA3xHH"
      },
      "source": [
        "\n",
        "**Step 6 - Making Predictions** \n",
        "\n",
        "Now that we have trained our algorithm, it's time to test the model by making some predictions.\n",
        "\n",
        "For this we will use our test-set data"
      ]
    },
    {
      "cell_type": "code",
      "metadata": {
        "id": "2alJ1xoV33pf"
      },
      "source": [
        "\n",
        "\n",
        "# Testing data\n",
        "print(X_test)\n",
        "# Model Prediction \n",
        "y_pred = regressor.predict(X_test)"
      ],
      "execution_count": null,
      "outputs": []
    },
    {
      "cell_type": "markdown",
      "metadata": {
        "id": "KWRE7Fd84PJ0"
      },
      "source": [
        "**Step 7 - Comparing Actual result to the Predicted Model bold text **"
      ]
    },
    {
      "cell_type": "code",
      "metadata": {
        "id": "kxewX9ca4SB7"
      },
      "source": [
        "# Comparing Actual vs Predicted\n",
        "df = pd.DataFrame({'Actual': y_test, 'Predicted': y_pred}) \n",
        "df"
      ],
      "execution_count": null,
      "outputs": []
    },
    {
      "cell_type": "markdown",
      "metadata": {
        "id": "_NVBiN9H4dsj"
      },
      "source": [
        ""
      ]
    },
    {
      "cell_type": "code",
      "metadata": {
        "id": "WCK2dldq4szp"
      },
      "source": [
        "#Estimating training and test score\n",
        "print(\"Training Score:\",regressor.score(X_train,y_train))\n",
        "print(\"Test Score:\",regressor.score(X_test,y_test))"
      ],
      "execution_count": null,
      "outputs": []
    },
    {
      "cell_type": "code",
      "metadata": {
        "id": "JzhyzR7r4w-U"
      },
      "source": [
        "# Plotting the Bar graph to depict the difference between the actual and predicted value\n",
        "\n",
        "df.plot(kind='bar',figsize=(5,5))\n",
        "plt.grid(which='major', linewidth='0.5', color='red')\n",
        "plt.grid(which='minor', linewidth='0.5', color='blue')\n",
        "plt.show()"
      ],
      "execution_count": null,
      "outputs": []
    },
    {
      "cell_type": "code",
      "metadata": {
        "id": "WZbjrQIb5Jb7"
      },
      "source": [
        "# Testing the model with our own data\n",
        "hours = 9.25\n",
        "test = np.array([hours])\n",
        "test = test.reshape(-1, 1)\n",
        "own_pred = regressor.predict(test)\n",
        "print(\"No of Hours = {}\".format(hours))\n",
        "print(\"Predicted Score = {}\".format(own_pred[0]))"
      ],
      "execution_count": null,
      "outputs": []
    },
    {
      "cell_type": "markdown",
      "metadata": {
        "id": "86S5vAxs5SA2"
      },
      "source": [
        "\n",
        "**Step 8 - Evaluating the model**\n",
        "\n",
        "The final step is to evaluate the performance of algorithm. This step is particularly important to compare how well different algorithms perform on a particular dataset. Here different errors have been calculated to compare the model performance and predict the accuracy."
      ]
    },
    {
      "cell_type": "code",
      "metadata": {
        "id": "BDG3AZkZ5fww"
      },
      "source": [
        "from sklearn import metrics  \n",
        "print('Mean Absolute Error:',metrics.mean_absolute_error(y_test, y_pred)) \n",
        "print('Mean Squared Error:', metrics.mean_squared_error(y_test, y_pred))\n",
        "print('Root Mean Squared Error:', np.sqrt(metrics.mean_squared_error(y_test, y_pred)))\n",
        "print('R-2:', metrics.r2_score(y_test, y_pred))"
      ],
      "execution_count": null,
      "outputs": []
    },
    {
      "cell_type": "markdown",
      "metadata": {
        "id": "fDqaVWHn6O67"
      },
      "source": [
        "R-2 gives the score of model fit and in this case we have R-2 = 0.9454906892105355 which is actually a great score for this model."
      ]
    },
    {
      "cell_type": "markdown",
      "metadata": {
        "id": "iHMuLP8F6VuV"
      },
      "source": [
        "**Conclusion**\n",
        "\n",
        "I  successfully was  able to carry-out Prediction using Supervised ML task and was able to evaluate the model's performance on various parameters.The different graph aslo help us to understand that the parametres of the dataset and to draw a conclusive decision . That the number of hours study by student can score more marks i.e the if students study for 9.25hrs then they can score 93.692marks ."
      ]
    }
  ]
}