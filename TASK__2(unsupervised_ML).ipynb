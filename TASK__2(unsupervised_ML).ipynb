{
  "nbformat": 4,
  "nbformat_minor": 0,
  "metadata": {
    "colab": {
      "name": " TASK _2(unsupervised ML).ipynb",
      "provenance": [],
      "collapsed_sections": [],
      "toc_visible": true,
      "authorship_tag": "ABX9TyMH6P02yBjbOKIYMRFLVt/Y",
      "include_colab_link": true
    },
    "kernelspec": {
      "name": "python3",
      "display_name": "Python 3"
    },
    "language_info": {
      "name": "python"
    }
  },
  "cells": [
    {
      "cell_type": "markdown",
      "metadata": {
        "id": "view-in-github",
        "colab_type": "text"
      },
      "source": [
        "<a href=\"https://colab.research.google.com/github/rajpurohit-shubham/intern-/blob/main/TASK__2(unsupervised_ML).ipynb\" target=\"_parent\"><img src=\"https://colab.research.google.com/assets/colab-badge.svg\" alt=\"Open In Colab\"/></a>"
      ]
    },
    {
      "cell_type": "markdown",
      "metadata": {
        "id": "xe9EreQKB11D"
      },
      "source": [
        "**SHUBHAM RAJPUROHIT** \n",
        "\n",
        "\n",
        "\n",
        "**Task 2 : Prediction using Unsupervised Machine Learning**\n",
        "\n",
        "\n",
        "**GRIP @ The Sparks Foundation**\n",
        "\n",
        "In this K-means clustering task I tried to predict the optimum number of clusters and represent it visually from the given ‘Iris’ dataset.\n",
        ".\n",
        "\n",
        "**Technical Stack : Scikit Learn, Numpy Array, Scipy, Pandas, Matplotlib** "
      ]
    },
    {
      "cell_type": "code",
      "metadata": {
        "id": "gdGBzu1NBqp9"
      },
      "source": [
        "from sklearn import datasets\n",
        "import matplotlib.pyplot as plt\n",
        "import pandas as pd\n",
        "import numpy as np\n",
        "from sklearn.cluster import KMeans\n",
        "import matplotlib.patches as mpatches\n",
        "import sklearn.metrics as sm\n",
        "from mpl_toolkits.mplot3d import Axes3D\n",
        "from scipy.cluster.hierarchy import linkage,dendrogram\n",
        "from sklearn.cluster import DBSCAN \n",
        "from sklearn.decomposition import PCA"
      ],
      "execution_count": null,
      "outputs": []
    },
    {
      "cell_type": "markdown",
      "metadata": {
        "id": "8tSpVtDkB0KD"
      },
      "source": [
        "**Step 1 - Loading the dataset**"
      ]
    },
    {
      "cell_type": "code",
      "metadata": {
        "id": "BguEaR5ODkoF"
      },
      "source": [
        "iris = datasets.load_iris()\n",
        "print(iris.data)"
      ],
      "execution_count": null,
      "outputs": []
    },
    {
      "cell_type": "code",
      "metadata": {
        "id": "XkhDAx6PDnfb"
      },
      "source": [
        "print(iris.target_names)"
      ],
      "execution_count": null,
      "outputs": []
    },
    {
      "cell_type": "code",
      "metadata": {
        "id": "izHhAnjADzO7"
      },
      "source": [
        "print(iris.target)"
      ],
      "execution_count": null,
      "outputs": []
    },
    {
      "cell_type": "code",
      "metadata": {
        "id": "tktv_J-jD5yL"
      },
      "source": [
        "x = iris.data\n",
        "y = iris.target"
      ],
      "execution_count": null,
      "outputs": []
    },
    {
      "cell_type": "markdown",
      "metadata": {
        "id": "Ka9mjyHWEO_E"
      },
      "source": [
        "\n",
        "**Step 2 - Visualizing the input data and its Hierarchy** "
      ]
    },
    {
      "cell_type": "code",
      "metadata": {
        "id": "reGlZMowEeDY"
      },
      "source": [
        "#Plotting\n",
        "fig = plt.figure(1, figsize=(7,5))\n",
        "ax = Axes3D(fig, rect=[0, 0, 0.95, 1], elev=48, azim=134)\n",
        "ax.scatter(x[:, 3], x[:, 0], x[:, 2], edgecolor=\"k\", s=50)\n",
        "ax.set_xlabel(\"Petal width\")\n",
        "ax.set_ylabel(\"Sepal length\")\n",
        "ax.set_zlabel(\"Petal length\")\n",
        "plt.title(\"Iris Clustering K Means=3\", fontsize=14)\n",
        "plt.show()\n",
        "\n",
        "#Hierachy Clustering \n",
        "hier=linkage(x,\"ward\")\n",
        "max_d=7.08\n",
        "plt.figure(figsize=(15,8))\n",
        "plt.title('Iris Hierarchical Clustering Dendrogram')\n",
        "plt.xlabel('Species')\n",
        "plt.ylabel('distance')\n",
        "dendrogram(\n",
        "    hier,\n",
        "    truncate_mode='lastp',  \n",
        "    p=50,                  \n",
        "    leaf_rotation=90.,      \n",
        "    leaf_font_size=8.,     \n",
        ")\n",
        "plt.axhline(y=max_d, c='k')\n",
        "plt.show()"
      ],
      "execution_count": null,
      "outputs": []
    },
    {
      "cell_type": "markdown",
      "metadata": {
        "id": "9Ed9Xb6tEzZg"
      },
      "source": [
        "**Step 3 - Data Preprocessing**"
      ]
    },
    {
      "cell_type": "code",
      "metadata": {
        "id": "fBSWoQfuE2Tc"
      },
      "source": [
        "x = pd.DataFrame(iris.data, columns=['Sepal Length', 'Sepal Width', 'Petal Length', 'Petal Width'])\n",
        "y = pd.DataFrame(iris.target, columns=['Target'])\n",
        "x.head()\n"
      ],
      "execution_count": null,
      "outputs": []
    },
    {
      "cell_type": "code",
      "metadata": {
        "id": "6B2tuyH9F8VS"
      },
      "source": [
        "y.head()\n"
      ],
      "execution_count": null,
      "outputs": []
    },
    {
      "cell_type": "markdown",
      "metadata": {
        "id": "EZ1nBoaVGLmx"
      },
      "source": [
        "**Step 4 - Model Training**"
      ]
    },
    {
      "cell_type": "code",
      "metadata": {
        "id": "Uma2Y7UHGibA"
      },
      "source": [
        "iris_k_mean_model = KMeans(n_clusters=3)\n",
        "iris_k_mean_model.fit(x)\n"
      ],
      "execution_count": null,
      "outputs": []
    },
    {
      "cell_type": "code",
      "metadata": {
        "id": "-WDC0Dy7Gvoe"
      },
      "source": [
        "print(iris_k_mean_model.labels_)"
      ],
      "execution_count": null,
      "outputs": []
    },
    {
      "cell_type": "code",
      "metadata": {
        "id": "dt92E3sNG8xL"
      },
      "source": [
        "print(iris_k_mean_model.cluster_centers_)"
      ],
      "execution_count": null,
      "outputs": []
    },
    {
      "cell_type": "markdown",
      "metadata": {
        "id": "mS48GSXjHsQ0"
      },
      "source": [
        "**Step 5 - Visualizing the Model Cluster**"
      ]
    },
    {
      "cell_type": "code",
      "metadata": {
        "id": "97Iz6gfVJhUK"
      },
      "source": [
        "plt.figure(figsize=(14,6))\n",
        "\n",
        "colors = np.array(['red', 'green', 'blue'])\n",
        "\n",
        "predictedY = np.choose(iris_k_mean_model.labels_, [1, 0, 2]).astype(np.int64)\n",
        "\n",
        "plt.subplot(1, 2, 1)\n",
        "plt.scatter(x['Petal Length'], x['Petal Width'], c=colors[y['Target']])\n",
        "plt.title('Before classification')\n",
        "\n",
        "\n",
        "plt.subplot(1, 2, 2)\n",
        "plt.scatter(x['Petal Length'], x['Petal Width'], c=colors[predictedY])\n",
        "plt.title(\"Model's classification\")\n",
        "\n",
        "\n",
        "\n",
        "\n",
        "\n"
      ],
      "execution_count": null,
      "outputs": []
    },
    {
      "cell_type": "markdown",
      "metadata": {
        "id": "ttT_k_CIKGI5"
      },
      "source": [
        "**Step 6 - Calculating the Accuracy and Confusion Matrix**"
      ]
    },
    {
      "cell_type": "code",
      "metadata": {
        "id": "102dJaGjKLfy"
      },
      "source": [
        "sm.accuracy_score(predictedY, y['Target'])\n"
      ],
      "execution_count": null,
      "outputs": []
    },
    {
      "cell_type": "code",
      "metadata": {
        "id": "RNwccjp6KcZo"
      },
      "source": [
        "sm.confusion_matrix(predictedY, y['Target'])"
      ],
      "execution_count": null,
      "outputs": []
    },
    {
      "cell_type": "markdown",
      "metadata": {
        "id": "blzmL4zFKopP"
      },
      "source": [
        "\n",
        "\n",
        "In a confusion matrix, the predicted class labels (0, 1, 2) are written along the top (column names). The true class labels (Iris-setosa, etc.) are written along the right side. Each cell in the matrix is a count of how many instances of a true class where classified as each of the predicted classes"
      ]
    },
    {
      "cell_type": "markdown",
      "metadata": {
        "id": "7C-sesL1K0CZ"
      },
      "source": [
        "**Conclusion**\n",
        "\n",
        "I  successfully was able to carry-out prediction using Unsupervised Machine Learning task and was able to evaluate the model's clustering accuracy score.Hence the acurracy of score predicted to us is 0.24 while  was also able to get the cinfusion matrix "
      ]
    }
  ]
}